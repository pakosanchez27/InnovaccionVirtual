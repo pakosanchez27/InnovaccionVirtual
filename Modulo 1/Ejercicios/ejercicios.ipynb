{
 "cells": [
  {
   "cell_type": "markdown",
   "metadata": {},
   "source": [
    "# Ejercicios de Modulo 1"
   ]
  },
  {
   "cell_type": "markdown",
   "metadata": {},
   "source": [
    "## Funcion print()\n",
    "\n",
    "print('hola desde la consola')"
   ]
  },
  {
   "cell_type": "code",
   "execution_count": null,
   "metadata": {},
   "outputs": [],
   "source": [
    "print('hola desde la consola')"
   ]
  },
  {
   "cell_type": "markdown",
   "metadata": {},
   "source": [
    "## Variables\n",
    "\n",
    "Ejemplo \\\n",
    "sum = 1 + 2 # 3 \\\n",
    "product = sum + 2 \\\n",
    "print(product) "
   ]
  },
  {
   "cell_type": "code",
   "execution_count": null,
   "metadata": {},
   "outputs": [],
   "source": [
    "sum = 2 + 5\n",
    "product = sum + 3\n",
    "print(product) "
   ]
  },
  {
   "cell_type": "markdown",
   "metadata": {},
   "source": [
    "## Tipos de Datos\n",
    "\n",
    "### Numericos\n",
    "* int\n",
    "* float \n",
    "* complex \n",
    "* no = 3"
   ]
  },
  {
   "cell_type": "markdown",
   "metadata": {},
   "source": [
    "### Texto\n",
    "\n",
    "* str = \"a literal string\""
   ]
  },
  {
   "cell_type": "markdown",
   "metadata": {},
   "source": [
    "### Booleanos\n",
    "\n",
    "* continue = true"
   ]
  },
  {
   "cell_type": "markdown",
   "metadata": {},
   "source": [
    "### Ejemplos de Tipo de datos\n",
    "\n",
    "planetas_en_el_sistema_solar = 8 # int, plutón era considerado un planeta pero ya es muy pequeño \\\n",
    "distancia_a_alfa_centauri = 4.367 # float, años luz \\\n",
    "puede_despegar = True \\\n",
    "transbordador_que_aterrizo_en_la_luna = \"Apollo 11\" #string "
   ]
  },
  {
   "cell_type": "markdown",
   "metadata": {},
   "source": [
    "## Funcion type()\n",
    "\n",
    "Sirve para saber el tipo de dato de una variable por ejemplo"
   ]
  },
  {
   "cell_type": "code",
   "execution_count": 4,
   "metadata": {},
   "outputs": [
    {
     "data": {
      "text/plain": [
       "float"
      ]
     },
     "execution_count": 4,
     "metadata": {},
     "output_type": "execute_result"
    }
   ],
   "source": [
    "#se declara la varable\n",
    "\n",
    "distancia_a_alfa_centauri = 4.367 \n",
    "\n",
    "# Descubrimos su tipo de dato \n",
    "\n",
    "type(distancia_a_alfa_centauri)\n",
    "\n"
   ]
  },
  {
   "cell_type": "markdown",
   "metadata": {},
   "source": [
    "## Operadores \n",
    "\n",
    "### Operadores aritmeticos\n",
    "\n",
    "* \"+ Suma\"\n",
    "* \"- Resta\" \n",
    "* \"/ División\"\n",
    "* \"* Multiplicación\" \n",
    "\n",
    "Ejemplo"
   ]
  },
  {
   "cell_type": "code",
   "execution_count": 10,
   "metadata": {},
   "outputs": [
    {
     "name": "stdout",
     "output_type": "stream",
     "text": [
      "25\n"
     ]
    }
   ],
   "source": [
    "Num1 = 5\n",
    "Num2 = 5\n",
    "operador = Num1 * Num2 \n",
    "print(operador)\n"
   ]
  },
  {
   "cell_type": "markdown",
   "metadata": {},
   "source": [
    "### Operadores de asignación \n",
    "\n",
    "* \"=\" Ejemplo x = 2 x ahora contiene 2. \\\n",
    "* \"+=\" Ejemplo x += 2 x incrementado en 2. Si antes contenía 2, ahora tiene un valor de 4. \\\n",
    "* \"-=\" Ejemplo x -= 2 x decrementado por 2. Si antes contenía 2, ahora tiene un valor de 0. \\\n",
    "* \"/=\" Ejemplo x /= 2 x dividido por 2. Si antes contenía 2, ahora tiene un valor de 1. \\\n",
    "* \"*=\" Ejemplo x *= 2 x multiplicado por 2. Si antes contenía 2, ahora tiene un valor de 4.\n"
   ]
  },
  {
   "cell_type": "markdown",
   "metadata": {},
   "source": [
    "## Fechas \n",
    "\n",
    "Para trabajar con una fecha, debe importar el módulo: date"
   ]
  },
  {
   "cell_type": "code",
   "execution_count": 11,
   "metadata": {},
   "outputs": [],
   "source": [
    "from datetime import date"
   ]
  },
  {
   "cell_type": "markdown",
   "metadata": {},
   "source": [
    "Introducimos la funcion today() y ocupamos la funcion print para mostrar la hora "
   ]
  },
  {
   "cell_type": "code",
   "execution_count": 13,
   "metadata": {},
   "outputs": [
    {
     "name": "stdout",
     "output_type": "stream",
     "text": [
      "2022-02-13\n"
     ]
    }
   ],
   "source": [
    "print(date.today())\n"
   ]
  },
  {
   "cell_type": "markdown",
   "metadata": {},
   "source": [
    "## Conversión  de Tipos de Datos \n",
    "\n",
    "Ejemplo"
   ]
  },
  {
   "cell_type": "code",
   "execution_count": 14,
   "metadata": {},
   "outputs": [
    {
     "name": "stdout",
     "output_type": "stream",
     "text": [
      "today´s date is2022-02-13\n"
     ]
    }
   ],
   "source": [
    "print(\"today´s date is \" + str(date.today()))"
   ]
  },
  {
   "cell_type": "markdown",
   "metadata": {},
   "source": [
    "## Recopilacion de información \n",
    "\n",
    "### Entrada del usuario"
   ]
  },
  {
   "cell_type": "code",
   "execution_count": 15,
   "metadata": {},
   "outputs": [
    {
     "name": "stdout",
     "output_type": "stream",
     "text": [
      "Bienvenido a mi programa\n",
      "Saludos: pako\n"
     ]
    }
   ],
   "source": [
    "print(\"Bienvenido a mi programa\")\n",
    "name = input(\"Introduce tu nombre\")\n",
    "print(\"Saludos: \" + name)"
   ]
  },
  {
   "cell_type": "markdown",
   "metadata": {},
   "source": [
    "### Trabaja con numeros"
   ]
  },
  {
   "cell_type": "code",
   "execution_count": 17,
   "metadata": {},
   "outputs": [
    {
     "name": "stdout",
     "output_type": "stream",
     "text": [
      "calculadora\n",
      "10\n"
     ]
    }
   ],
   "source": [
    "print(\"calculadora\")\n",
    "First_num = input(\"Primer numero: \")\n",
    "Second_num = input(\"Segundo numero: \")\n",
    "print(int(First_num) + int(Second_num))\n"
   ]
  }
 ],
 "metadata": {
  "interpreter": {
   "hash": "0dc4b264aeacaec4fb2c93ab0bb6dc542865ad26541244c6b6bf90acd01607f1"
  },
  "kernelspec": {
   "display_name": "Python 3.10.2 64-bit",
   "language": "python",
   "name": "python3"
  },
  "language_info": {
   "codemirror_mode": {
    "name": "ipython",
    "version": 3
   },
   "file_extension": ".py",
   "mimetype": "text/x-python",
   "name": "python",
   "nbconvert_exporter": "python",
   "pygments_lexer": "ipython3",
   "version": "3.10.2"
  },
  "orig_nbformat": 4
 },
 "nbformat": 4,
 "nbformat_minor": 2
}
