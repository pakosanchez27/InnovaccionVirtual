{
 "cells": [
  {
   "cell_type": "markdown",
   "metadata": {},
   "source": [
    "# Kata Modulo 3\n",
    "\n",
    "## Ejercicio - Escribir declaraciones `if`, `else`, y `elif`\n",
    "\n",
    "Para este ejercicio, escribirás una lógica condicional que imprima una advertencia si un asteroide se acerca a la Tierra demasiado rápido. La velocidad del asteroide varía dependiendo de lo cerca que esté del sol, y cualquier velocidad superior a 25 kilómetros por segundo (km/s) merece una advertencia.\n",
    "\n",
    "Un asteroide se acerca, y viaja a una velocidad de 49 km/s."
   ]
  },
  {
   "cell_type": "code",
   "execution_count": 3,
   "metadata": {},
   "outputs": [
    {
     "name": "stdout",
     "output_type": "stream",
     "text": [
      "Advertencia de asteroide con velocidad de :  49 km/s\n"
     ]
    }
   ],
   "source": [
    "Vel_aste = 49\n",
    "Vel_lim = 25\n",
    "\n",
    "if Vel_aste > Vel_lim:\n",
    "    print(\"Advertencia de asteroide con velocidad de : \", Vel_aste, \"km/s\")"
   ]
  },
  {
   "cell_type": "markdown",
   "metadata": {},
   "source": [
    "Si un asteroide entra en la atmósfera de la Tierra a una velocidad mayor o igual a 20 km/s, a veces produce un rayo de luz que se puede ver desde la Tierra. Escribe la lógica condicional que usa declaraciones if, else, y elif para alertar a las personas de todo el mundo que deben buscar un asteroide en el cielo. ¡Hay uno que se dirige a la tierra ahora a una velocidad de 19 km/s!"
   ]
  },
  {
   "cell_type": "code",
   "execution_count": 15,
   "metadata": {},
   "outputs": [
    {
     "name": "stdout",
     "output_type": "stream",
     "text": [
      "El asteroide no produjo nada\n"
     ]
    }
   ],
   "source": [
    "Vel_lim = 20\n",
    "Vel_ast = 19\n",
    "\n",
    "if Vel_ast > Vel_lim: \n",
    "    print(\"El asteroide produjo un rayo de luz\")\n",
    "elif Vel_ast == Vel_lim:\n",
    "    print(\"El asteroide produjo un rayo de luz\")\n",
    "else:\n",
    "    print(\"El asteroide no produjo nada\")"
   ]
  },
  {
   "cell_type": "markdown",
   "metadata": {},
   "source": [
    "## Ejercicio: Uso de operadores `and` y `or`\n",
    "\n",
    "*Los asteroides de menos de 25 metros en su dimensión más grande probablemente se quemarán a medida que entren en la atmósfera de la Tierra.\n",
    "* Si una pieza de un asteroide que es más grande que 25 metros pero más pequeña que 1000 metros golpeara la Tierra, causaría mucho daño.\n",
    "\n",
    "También discutimos en el ejercicio anterior que:\n",
    "\n",
    "* La velocidad del asteroide varía en función de lo cerca que esté del sol, y cualquier velocidad superior a 25 kilómetros por segundo (km/s) merece una advertencia.\n",
    "* Si un asteroide entra en la atmósfera de la Tierra a una velocidad mayor o igual a 20 km/s, a veces produce un rayo de luz que se puede ver desde la Tierra.\n",
    "\n",
    "Usando toda esta información, escribe un programa que emita la advertencia o información correcta a la gente de la Tierra, según la velocidad y el tamaño de un asteroide. Utiliza instrucciones `if`, `else`, y `elif`, así como los operadores `and` y `or`."
   ]
  },
  {
   "cell_type": "code",
   "execution_count": 16,
   "metadata": {},
   "outputs": [
    {
     "name": "stdout",
     "output_type": "stream",
     "text": [
      "Es un ateroide peligroso\n"
     ]
    }
   ],
   "source": [
    "Tam=45\n",
    "velAS= 30\n",
    "\n",
    "if Tam > 25 and velAS > 20:\n",
    "    print(\"Es un ateroide peligroso\")\n",
    "elif velAS >= 20 :\n",
    "    print (\"Es un ateroide que brilla\")\n",
    "elif Tam < 25:\n",
    "        print(\"Es un asteroide pequeño\") \n",
    "else:\n",
    "    print (\"Es un asteriode simple\")\n"
   ]
  }
 ],
 "metadata": {
  "interpreter": {
   "hash": "0dc4b264aeacaec4fb2c93ab0bb6dc542865ad26541244c6b6bf90acd01607f1"
  },
  "kernelspec": {
   "display_name": "Python 3.10.2 64-bit",
   "language": "python",
   "name": "python3"
  },
  "language_info": {
   "codemirror_mode": {
    "name": "ipython",
    "version": 3
   },
   "file_extension": ".py",
   "mimetype": "text/x-python",
   "name": "python",
   "nbconvert_exporter": "python",
   "pygments_lexer": "ipython3",
   "version": "3.10.2"
  },
  "orig_nbformat": 4
 },
 "nbformat": 4,
 "nbformat_minor": 2
}
